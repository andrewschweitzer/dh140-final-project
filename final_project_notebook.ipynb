{
 "cells": [
  {
   "cell_type": "markdown",
   "id": "d7849aa5-4eeb-4f09-8777-cdb4aaef1922",
   "metadata": {},
   "source": [
    "# Introduction"
   ]
  },
  {
   "cell_type": "markdown",
   "id": "d933c0a9-d513-4ea3-84b8-a2dd5434018d",
   "metadata": {},
   "source": [
    "With the 2024 United States presidential election coming up, I am curious how "
   ]
  }
 ],
 "metadata": {
  "kernelspec": {
   "display_name": "Python 3 (ipykernel)",
   "language": "python",
   "name": "python3"
  },
  "language_info": {
   "codemirror_mode": {
    "name": "ipython",
    "version": 3
   },
   "file_extension": ".py",
   "mimetype": "text/x-python",
   "name": "python",
   "nbconvert_exporter": "python",
   "pygments_lexer": "ipython3",
   "version": "3.9.7"
  }
 },
 "nbformat": 4,
 "nbformat_minor": 5
}
